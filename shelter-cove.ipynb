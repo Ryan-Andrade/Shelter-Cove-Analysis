{
 "cells": [
  {
   "cell_type": "code",
   "execution_count": null,
   "metadata": {},
   "outputs": [],
   "source": [
    "# Import Dependencies\n",
    "from splinter import Browser\n",
    "from bs4 import BeautifulSoup as soup\n",
    "import pandas as pd\n",
    "import datetime as dt\n",
    "from webdriver_manager.chrome import ChromeDriverManager"
   ]
  },
  {
   "cell_type": "code",
   "execution_count": null,
   "metadata": {},
   "outputs": [],
   "source": [
    "# Initiate web driver for deployment\n",
    "executable_path = {'executable_path': ChromeDriverManager().install()}\n",
    "browser = Browser('chrome', **executable_path, headless=False)"
   ]
  },
  {
   "cell_type": "code",
   "execution_count": null,
   "metadata": {},
   "outputs": [],
   "source": [
    "url = 'https://www.redfin.com/city/34937/CA/Shelter-Cove'\n",
    "browser.visit(url)\n",
    "html = browser.html\n",
    "html_soup = soup(html, 'html.parser')"
   ]
  },
  {
   "cell_type": "code",
   "execution_count": null,
   "metadata": {},
   "outputs": [],
   "source": [
    "def scrape():\n",
    "    stats = []\n",
    "    for x in range (120):\n",
    "        stat = html_soup.find_all(class_='stats')[x]\n",
    "        stat = stat.string\n",
    "        stats.append(stat)\n",
    "    \n",
    "    Beds = []\n",
    "    for x in stats[::3]:\n",
    "        Beds.append(x)\n",
    "\n",
    "    Baths = []\n",
    "    for x in stats[1::3]:\n",
    "        Baths.append(x)\n",
    "\n",
    "    Size = []\n",
    "    for x in stats[2::3]:\n",
    "        Size.append(x)\n",
    "\n",
    "    prices = []\n",
    "    for x in range (40):\n",
    "        price = html_soup.find_all(class_='homecardV2Price')[x]\n",
    "        price = price.string\n",
    "        prices.append(price)\n",
    "\n",
    "    addresses = []\n",
    "    for x in range (40):\n",
    "        address = html_soup.find_all(class_='link-and-anchor')[x]\n",
    "        address = address.string\n",
    "        addresses.append(address)\n",
    "    \n",
    "    sc = pd.DataFrame(addresses, columns=['Address'])\n",
    "    sc.insert([1, 2, 3, 4], ['Price', 'Beds', 'Baths', 'Size'], [prices, Beds, Baths, Size])\n",
    "    return sc"
   ]
  },
  {
   "cell_type": "code",
   "execution_count": null,
   "metadata": {},
   "outputs": [],
   "source": [
    "stats = []\n",
    "for x in range (120):\n",
    "    stat = html_soup.find_all(class_='stats')[x]\n",
    "    stat = stat.string\n",
    "    stats.append(stat)"
   ]
  },
  {
   "cell_type": "code",
   "execution_count": null,
   "metadata": {},
   "outputs": [],
   "source": [
    "Beds = []\n",
    "for x in stats[::3]:\n",
    "    Beds.append(x)\n",
    "Beds"
   ]
  },
  {
   "cell_type": "code",
   "execution_count": null,
   "metadata": {},
   "outputs": [],
   "source": [
    "Baths = []\n",
    "for x in stats[1::3]:\n",
    "    Baths.append(x)\n",
    "Baths"
   ]
  },
  {
   "cell_type": "code",
   "execution_count": null,
   "metadata": {},
   "outputs": [],
   "source": [
    "Size = []\n",
    "for x in stats[2::3]:\n",
    "    Size.append(x)\n",
    "Size"
   ]
  },
  {
   "cell_type": "code",
   "execution_count": null,
   "metadata": {},
   "outputs": [],
   "source": [
    "prices = []\n",
    "for x in range (40):\n",
    "    price = html_soup.find_all(class_='homecardV2Price')[x]\n",
    "    price = price.string\n",
    "    prices.append(price)\n",
    "\n",
    "prices"
   ]
  },
  {
   "cell_type": "code",
   "execution_count": null,
   "metadata": {},
   "outputs": [],
   "source": [
    "addresses = []\n",
    "for x in range (40):\n",
    "    address = html_soup.find_all(class_='link-and-anchor')[x]\n",
    "    address = address.string\n",
    "    addresses.append(address)\n",
    "\n",
    "addresses"
   ]
  },
  {
   "cell_type": "code",
   "execution_count": null,
   "metadata": {},
   "outputs": [],
   "source": [
    "sc = pd.DataFrame(addresses, columns=['Adress'])"
   ]
  },
  {
   "cell_type": "code",
   "execution_count": null,
   "metadata": {},
   "outputs": [],
   "source": [
    "sc.insert(1, 'Price', prices)\n"
   ]
  },
  {
   "cell_type": "code",
   "execution_count": null,
   "metadata": {},
   "outputs": [],
   "source": [
    "sc"
   ]
  },
  {
   "cell_type": "code",
   "execution_count": null,
   "metadata": {},
   "outputs": [],
   "source": [
    "sc.insert(2, 'Beds', Beds)"
   ]
  },
  {
   "cell_type": "code",
   "execution_count": null,
   "metadata": {},
   "outputs": [],
   "source": [
    "sc.insert(3, 'Baths', Baths)\n",
    "sc"
   ]
  },
  {
   "cell_type": "code",
   "execution_count": null,
   "metadata": {},
   "outputs": [],
   "source": [
    "sc.insert(4, 'Size', Size)"
   ]
  },
  {
   "cell_type": "code",
   "execution_count": null,
   "metadata": {},
   "outputs": [],
   "source": [
    "sc"
   ]
  },
  {
   "cell_type": "code",
   "execution_count": null,
   "metadata": {},
   "outputs": [],
   "source": [
    "sc[sc['Beds'].isnull()]"
   ]
  },
  {
   "cell_type": "code",
   "execution_count": null,
   "metadata": {},
   "outputs": [],
   "source": []
  }
 ],
 "metadata": {
  "kernelspec": {
   "display_name": "Python 3.10.4 ('DataScience')",
   "language": "python",
   "name": "python3"
  },
  "language_info": {
   "codemirror_mode": {
    "name": "ipython",
    "version": 3
   },
   "file_extension": ".py",
   "mimetype": "text/x-python",
   "name": "python",
   "nbconvert_exporter": "python",
   "pygments_lexer": "ipython3",
   "version": "3.10.4"
  },
  "orig_nbformat": 4,
  "vscode": {
   "interpreter": {
    "hash": "faf152dcab53f8a9bfdb1ea450c9669f6d3bdf67e1e84287bd0a554cebd1548d"
   }
  }
 },
 "nbformat": 4,
 "nbformat_minor": 2
}
