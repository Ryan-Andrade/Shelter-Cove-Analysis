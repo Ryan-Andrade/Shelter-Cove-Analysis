{
 "cells": [
  {
   "cell_type": "code",
   "execution_count": 60,
   "metadata": {},
   "outputs": [],
   "source": [
    "# Import Dependencies\n",
    "from splinter import Browser\n",
    "from bs4 import BeautifulSoup as soup\n",
    "import pandas as pd\n",
    "import datetime as dt\n",
    "from webdriver_manager.chrome import ChromeDriverManager"
   ]
  },
  {
   "cell_type": "code",
   "execution_count": 61,
   "metadata": {},
   "outputs": [
    {
     "name": "stdout",
     "output_type": "stream",
     "text": [
      "\n"
     ]
    },
    {
     "name": "stderr",
     "output_type": "stream",
     "text": [
      "[WDM] - ====== WebDriver manager ======\n",
      "INFO:WDM:====== WebDriver manager ======\n",
      "[WDM] - Current google-chrome version is 102.0.5005\n",
      "INFO:WDM:Current google-chrome version is 102.0.5005\n",
      "[WDM] - Get LATEST chromedriver version for 102.0.5005 google-chrome\n",
      "INFO:WDM:Get LATEST chromedriver version for 102.0.5005 google-chrome\n",
      "[WDM] - About to download new driver from https://chromedriver.storage.googleapis.com/102.0.5005.61/chromedriver_mac64.zip\n",
      "INFO:WDM:About to download new driver from https://chromedriver.storage.googleapis.com/102.0.5005.61/chromedriver_mac64.zip\n",
      "[WDM] - Driver has been saved in cache [/Users/ryanandrade/.wdm/drivers/chromedriver/mac64/102.0.5005.61]\n",
      "INFO:WDM:Driver has been saved in cache [/Users/ryanandrade/.wdm/drivers/chromedriver/mac64/102.0.5005.61]\n"
     ]
    }
   ],
   "source": [
    "# Initiate web driver for deployment\n",
    "executable_path = {'executable_path': ChromeDriverManager().install()}\n",
    "browser = Browser('chrome', **executable_path, headless=False)"
   ]
  },
  {
   "cell_type": "code",
   "execution_count": 62,
   "metadata": {},
   "outputs": [],
   "source": [
    "url = 'https://www.redfin.com/city/34937/CA/Shelter-Cove'\n",
    "browser.visit(url)\n",
    "html = browser.html\n",
    "html_soup = soup(html, 'html.parser')"
   ]
  },
  {
   "cell_type": "code",
   "execution_count": 65,
   "metadata": {},
   "outputs": [
    {
     "data": {
      "text/plain": [
       "<div class=\"bottomV2\"><span class=\"homecardV2Price\" data-rf-test-name=\"homecard-price\">$1,095,000</span><div class=\"favoriteButtonV2 homecard-clickable\"><div aria-checked=\"false\" aria-label=\"favorite button\" class=\"FavoriteExtension favoriteButtonV2 clickable fav-off\" data-rf-test-id=\"favoriteExtension\" role=\"checkbox\"><svg class=\"SvgIcon favorite-actionable clickable favorite-icon\"><svg viewbox=\"0 0 26 23\"><path class=\"favorite-actionable-fill fill\" d=\"M18.38 2c-1.753 0-3.712.756-5.368 2.766C11.356 2.756 9.397 2 7.644 2c-1.286 0-2.46.407-3.322 1.026C2.287 4.487 1.337 7.56 2.508 10.48c1.517 3.783 9.212 9.6 10.36 10.452a.233.233 0 00.287 0c1.158-.856 8.95-6.72 10.36-10.452 1.113-2.943.221-5.993-1.813-7.454C20.84 2.407 19.665 2 18.38 2z\"></path><path class=\"favorite-actionable-outline outline\" d=\"M13.012 4.766l-.771.636.771.937.772-.937zm-8.69-1.74l.584.813zM2.508 10.48l-.928.373zm10.36 10.452l-.596.803zm.287 0l-.594-.804-.006.004zm10.36-10.452l-.935-.353zm-1.813-7.454l.584-.812zM18.38 1c-2.061 0-4.3.898-6.138 3.13l1.543 1.272C15.257 3.615 16.937 3 18.38 3zm-4.595 3.13C11.945 1.899 9.707 1 7.644 1v2c1.444 0 3.124.615 4.597 2.402zM7.644 1c-1.49 0-2.87.47-3.905 1.215l1.167 1.623C5.593 3.344 6.563 3 7.644 3zM3.74 2.214C1.294 3.97.255 7.547 1.58 10.853l1.857-.745C2.42 7.572 3.28 5.006 4.906 3.838zM1.58 10.853c.443 1.104 1.298 2.278 2.273 3.394.988 1.132 2.16 2.27 3.304 3.301a75.12 75.12 0 005.115 4.187l1.193-1.605a73.097 73.097 0 01-4.969-4.068c-1.112-1.002-2.22-2.08-3.137-3.13-.93-1.065-1.607-2.036-1.922-2.824zm10.693 10.883c.44.327 1.037.33 1.482-.004l-1.2-1.6a.763.763 0 01.909-.003zm1.477 0a74.823 74.823 0 005.159-4.207c1.151-1.035 2.326-2.175 3.31-3.305.968-1.113 1.815-2.287 2.232-3.39l-1.871-.707c-.289.763-.945 1.721-1.87 2.784-.91 1.046-2.02 2.125-3.138 3.13a72.868 72.868 0 01-5.011 4.087zm10.7-10.902c1.249-3.3.292-6.855-2.164-8.62L21.119 3.84c1.612 1.157 2.439 3.702 1.461 6.288zm-2.164-8.62C21.25 1.471 19.87 1 18.379 1v2c1.081 0 2.051.344 2.74.839z\"></path></svg></svg></div></div><div class=\"HomeCardShareButton homecard-clickable\"><svg class=\"SvgIcon share-forward-icon clickable share-icon\"><svg viewbox=\"0 0 24 24\"><path class=\"share-forward-icon-fill fill\" d=\"M11.986 15.982c-2.023.035-6.72.353-8.908 2.454-.582.558-.927 1.197-1.045 1.94a.736.736 0 01-.731.61H.755A.753.753 0 010 20.214c.144-3.693 1.336-6.637 3.549-8.76C6.412 8.71 10.18 8.127 11.986 8.01V3.452a.25.25 0 01.403-.197l10.971 8.533a.25.25 0 010 .395l-10.97 8.534a.25.25 0 01-.405-.197v-4.538z\" opacity=\".5\"></path><path class=\"share-forward-icon-outline outline\" d=\"M12.382 13.99c.374 0 .609.01.66.011l.958.04v2.914L20.37 12 14 7.044v2.994L12.96 10c-.044 0-4.833-.146-8.024 2.925-.921.886-1.627 1.962-2.116 3.216 3.072-1.959 7.82-2.15 9.562-2.15M12 15.996c-2.023.035-6.72.353-8.908 2.454-.582.558-.927 1.197-1.045 1.94a.736.736 0 01-.731.61H.769a.753.753 0 01-.754-.772c.144-3.693 1.336-6.637 3.549-8.759C6.426 8.723 10.196 8.14 12 8.024V3.466a.25.25 0 01.404-.197l10.97 8.533a.25.25 0 010 .395l-10.97 8.534a.25.25 0 01-.404-.197v-4.538z\"></path></svg></svg></div><div class=\"HomeStatsV2 font-size-small\"><div class=\"stats\"><span class=\"noValue\">—</span>Beds</div><div class=\"stats\"><span class=\"noValue\">—</span>Baths</div><div class=\"stats\"><span class=\"noValue\">—</span>Sq. Ft.</div></div><div class=\"homeAddressV2\"><div class=\"addressDisplay font-size-smaller\" data-rf-test-id=\"abp-homeinfo-homeaddress\"><span class=\"collapsedAddress primaryLine\" data-rf-test-id=\"abp-streetLine\">17 Coral Pt, Shelter Cove, CA 95589</span></div></div><script type=\"application/ld+json\">[{\"@context\":\"http://schema.org\",\"name\":\"17 Coral Pt, Shelter Cove, CA 95589\",\"url\":\"/CA/Whitethorn/17-Coral-Pt-95589/home/116173925\",\"address\":{\"@type\":\"PostalAddress\",\"streetAddress\":\"17 Coral Pt\",\"addressLocality\":\"Shelter Cove\",\"addressRegion\":\"CA\",\"postalCode\":\"95589\",\"addressCountry\":\"US\"},\"numberOfRooms\":null,\"@type\":\"Accommodation\"},{\"@context\":\"http://schema.org\",\"@type\":\"Product\",\"name\":\"17 Coral Pt, Shelter Cove, CA 95589\",\"offers\":{\"@type\":\"Offer\",\"price\":\"1095000\",\"priceCurrency\":\"USD\"},\"url\":\"/CA/Whitethorn/17-Coral-Pt-95589/home/116173925\"}]</script><a href=\"/CA/Whitethorn/17-Coral-Pt-95589/home/116173925\" target=\"_blank\" title=\"17 Coral Pt, Shelter Cove, CA 95589\"><div class=\"link-and-anchor\">17 Coral Pt, Shelter Cove, CA 95589</div></a></div>"
      ]
     },
     "execution_count": 65,
     "metadata": {},
     "output_type": "execute_result"
    }
   ],
   "source": [
    "html_soup.find_all(class_='bottomV2')[0]"
   ]
  },
  {
   "cell_type": "code",
   "execution_count": 53,
   "metadata": {},
   "outputs": [
    {
     "data": {
      "text/plain": [
       "''"
      ]
     },
     "execution_count": 53,
     "metadata": {},
     "output_type": "execute_result"
    }
   ],
   "source": []
  }
 ],
 "metadata": {
  "kernelspec": {
   "display_name": "Python 3.10.4 ('DataScience')",
   "language": "python",
   "name": "python3"
  },
  "language_info": {
   "codemirror_mode": {
    "name": "ipython",
    "version": 3
   },
   "file_extension": ".py",
   "mimetype": "text/x-python",
   "name": "python",
   "nbconvert_exporter": "python",
   "pygments_lexer": "ipython3",
   "version": "3.10.4"
  },
  "orig_nbformat": 4,
  "vscode": {
   "interpreter": {
    "hash": "faf152dcab53f8a9bfdb1ea450c9669f6d3bdf67e1e84287bd0a554cebd1548d"
   }
  }
 },
 "nbformat": 4,
 "nbformat_minor": 2
}
